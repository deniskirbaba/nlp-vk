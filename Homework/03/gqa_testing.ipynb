{
 "cells": [
  {
   "cell_type": "code",
   "execution_count": null,
   "metadata": {},
   "outputs": [],
   "source": [
    "import torch"
   ]
  },
  {
   "cell_type": "code",
   "execution_count": 21,
   "metadata": {},
   "outputs": [],
   "source": [
    "batch_size = 64\n",
    "seq_len = 100\n",
    "emb_dim = 512\n",
    "\n",
    "n_heads = 8\n",
    "n_heads_kv = n_heads // 2\n",
    "n_hid = 256\n",
    "seq_len_kv = 25"
   ]
  },
  {
   "cell_type": "markdown",
   "metadata": {},
   "source": [
    "### MHA"
   ]
  },
  {
   "cell_type": "code",
   "execution_count": 4,
   "metadata": {},
   "outputs": [],
   "source": [
    "emb = torch.randn(batch_size, seq_len, emb_dim)\n",
    "\n",
    "W_q = torch.randn(n_heads, 1, emb_dim, n_hid // n_heads)\n",
    "W_k = torch.randn(n_heads, 1, emb_dim, n_hid // n_heads)\n",
    "W_v = torch.randn(n_heads, 1, emb_dim, n_hid // n_heads)"
   ]
  },
  {
   "cell_type": "code",
   "execution_count": 5,
   "metadata": {},
   "outputs": [],
   "source": [
    "Q = emb @ W_q\n",
    "K = emb @ W_v\n",
    "V = emb @ W_k"
   ]
  },
  {
   "cell_type": "code",
   "execution_count": 6,
   "metadata": {},
   "outputs": [
    {
     "data": {
      "text/plain": [
       "(torch.Size([8, 64, 100, 32]),\n",
       " torch.Size([8, 64, 100, 32]),\n",
       " torch.Size([8, 64, 100, 32]))"
      ]
     },
     "execution_count": 6,
     "metadata": {},
     "output_type": "execute_result"
    }
   ],
   "source": [
    "Q.shape, K.shape, V.shape"
   ]
  },
  {
   "cell_type": "code",
   "execution_count": null,
   "metadata": {},
   "outputs": [
    {
     "data": {
      "text/plain": [
       "torch.Size([8, 64, 100, 100])"
      ]
     },
     "execution_count": 12,
     "metadata": {},
     "output_type": "execute_result"
    }
   ],
   "source": [
    "att_w = Q @ K.transpose(2, 3) / (n_hid // n_heads) ** 0.5\n",
    "att_w = torch.softmax(att_w, dim=-1)\n",
    "att_w.shape"
   ]
  },
  {
   "cell_type": "code",
   "execution_count": 20,
   "metadata": {},
   "outputs": [
    {
     "data": {
      "text/plain": [
       "torch.Size([64, 100, 256])"
      ]
     },
     "execution_count": 20,
     "metadata": {},
     "output_type": "execute_result"
    }
   ],
   "source": [
    "att_out = att_w @ V\n",
    "att_out = att_out.permute(1, 2, 0, 3).reshape(batch_size, seq_len, n_hid)\n",
    "att_out.shape"
   ]
  },
  {
   "cell_type": "markdown",
   "metadata": {},
   "source": [
    "### GQA"
   ]
  },
  {
   "cell_type": "code",
   "execution_count": 34,
   "metadata": {},
   "outputs": [],
   "source": [
    "emb_enc = torch.randn(batch_size, seq_len_kv, emb_dim)\n",
    "emb_dec = torch.randn(batch_size, seq_len, emb_dim)\n",
    "\n",
    "W_q = torch.randn(n_heads, 1, emb_dim, n_hid // n_heads)\n",
    "W_k = torch.randn(n_heads_kv, 1, emb_dim, n_hid // n_heads)\n",
    "W_v = torch.randn(n_heads_kv, 1, emb_dim, n_hid // n_heads)"
   ]
  },
  {
   "cell_type": "code",
   "execution_count": 35,
   "metadata": {},
   "outputs": [
    {
     "data": {
      "text/plain": [
       "(torch.Size([8, 1, 512, 32]),\n",
       " torch.Size([4, 1, 512, 32]),\n",
       " torch.Size([4, 1, 512, 32]))"
      ]
     },
     "execution_count": 35,
     "metadata": {},
     "output_type": "execute_result"
    }
   ],
   "source": [
    "W_q.shape, W_k.shape, W_v.shape"
   ]
  },
  {
   "cell_type": "code",
   "execution_count": 36,
   "metadata": {},
   "outputs": [],
   "source": [
    "Q = emb_dec @ W_q\n",
    "K = torch.repeat_interleave(emb_enc @ W_k, repeats=n_heads//n_heads_kv, dim=0)\n",
    "V = torch.repeat_interleave(emb_enc @ W_v, repeats=n_heads//n_heads_kv, dim=0)"
   ]
  },
  {
   "cell_type": "code",
   "execution_count": 37,
   "metadata": {},
   "outputs": [
    {
     "data": {
      "text/plain": [
       "(torch.Size([8, 64, 100, 32]),\n",
       " torch.Size([8, 64, 25, 32]),\n",
       " torch.Size([8, 64, 25, 32]))"
      ]
     },
     "execution_count": 37,
     "metadata": {},
     "output_type": "execute_result"
    }
   ],
   "source": [
    "Q.shape, K.shape, V.shape"
   ]
  },
  {
   "cell_type": "code",
   "execution_count": 39,
   "metadata": {},
   "outputs": [
    {
     "data": {
      "text/plain": [
       "torch.Size([8, 64, 100, 25])"
      ]
     },
     "execution_count": 39,
     "metadata": {},
     "output_type": "execute_result"
    }
   ],
   "source": [
    "att_w = Q @ K.transpose(2, 3) / (n_hid // n_heads)*0.5\n",
    "att_w = torch.softmax(att_w, dim=-1)\n",
    "att_w.shape"
   ]
  },
  {
   "cell_type": "code",
   "execution_count": 42,
   "metadata": {},
   "outputs": [
    {
     "data": {
      "text/plain": [
       "torch.Size([64, 100, 256])"
      ]
     },
     "execution_count": 42,
     "metadata": {},
     "output_type": "execute_result"
    }
   ],
   "source": [
    "att_out = att_w @ V\n",
    "att_out = att_out.permute(1, 2, 0, 3).reshape(batch_size, seq_len, n_hid)\n",
    "att_out.shape"
   ]
  },
  {
   "cell_type": "code",
   "execution_count": null,
   "metadata": {},
   "outputs": [],
   "source": []
  }
 ],
 "metadata": {
  "kernelspec": {
   "display_name": "nn-zero-to-hero",
   "language": "python",
   "name": "python3"
  },
  "language_info": {
   "codemirror_mode": {
    "name": "ipython",
    "version": 3
   },
   "file_extension": ".py",
   "mimetype": "text/x-python",
   "name": "python",
   "nbconvert_exporter": "python",
   "pygments_lexer": "ipython3",
   "version": "3.12.7"
  }
 },
 "nbformat": 4,
 "nbformat_minor": 2
}
