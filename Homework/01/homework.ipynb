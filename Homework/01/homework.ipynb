{
 "cells": [
  {
   "cell_type": "code",
   "execution_count": 1,
   "id": "3bae632e",
   "metadata": {},
   "outputs": [],
   "source": [
    "import pandas as pd\n",
    "import numpy as np\n",
    "import random\n",
    "import torch\n",
    "import torch.nn as nn\n",
    "import torch.nn.functional as F\n",
    "import re\n",
    "import time\n",
    "from torch.utils.data import Dataset, DataLoader\n",
    "from tqdm import tqdm\n",
    "from collections import Counter\n",
    "from IPython.display import clear_output\n",
    "\n",
    "from scripts import BpeTokenizer, Model, Trainer, Collator, MyDataset, generate"
   ]
  },
  {
   "cell_type": "markdown",
   "id": "fbf920c8",
   "metadata": {},
   "source": [
    "# Загружаем данные"
   ]
  },
  {
   "cell_type": "code",
   "execution_count": 2,
   "id": "62c4b8e1",
   "metadata": {
    "scrolled": true
   },
   "outputs": [],
   "source": [
    "df = pd.read_csv('data/dataset.csv')\n",
    "train_texts = df['text'][:-1024].tolist()\n",
    "eval_texts = df['text'][-1024:].tolist()"
   ]
  },
  {
   "cell_type": "markdown",
   "id": "1185cbdb",
   "metadata": {},
   "source": [
    "# Инициализируем и обучаем токенизатор"
   ]
  },
  {
   "cell_type": "code",
   "execution_count": 3,
   "id": "c2faf407",
   "metadata": {},
   "outputs": [],
   "source": [
    "tokenizer = BpeTokenizer()"
   ]
  },
  {
   "cell_type": "code",
   "execution_count": 4,
   "id": "deecd0e9",
   "metadata": {},
   "outputs": [
    {
     "name": "stderr",
     "output_type": "stream",
     "text": [
      "pair=(277, 338), freq=52: 100%|██████████| 1789/1789 [08:49<00:00,  3.38it/s]  \n"
     ]
    }
   ],
   "source": [
    "tokenizer.train(train_texts[:2048], max_vocab=2048)"
   ]
  },
  {
   "cell_type": "markdown",
   "id": "a4388757",
   "metadata": {},
   "source": [
    "# Создаем датасеты и Collator"
   ]
  },
  {
   "cell_type": "code",
   "execution_count": 5,
   "id": "5a41f636",
   "metadata": {},
   "outputs": [
    {
     "name": "stderr",
     "output_type": "stream",
     "text": [
      "100%|██████████| 16384/16384 [15:39<00:00, 17.44it/s]\n",
      "100%|██████████| 1024/1024 [01:07<00:00, 15.21it/s]\n"
     ]
    }
   ],
   "source": [
    "train_dataset = MyDataset(train_texts, tokenizer, max_length=128)\n",
    "eval_dataset = MyDataset(eval_texts, tokenizer, max_length=128)\n",
    "collator = Collator(tokenizer.pad_token_id)"
   ]
  },
  {
   "cell_type": "markdown",
   "id": "6f1d558d",
   "metadata": {},
   "source": [
    "# Создаем модель"
   ]
  },
  {
   "cell_type": "code",
   "execution_count": 6,
   "id": "6bbf25b3",
   "metadata": {},
   "outputs": [],
   "source": [
    "torch.manual_seed(42)\n",
    "np.random.seed(42)\n",
    "random.seed(42)"
   ]
  },
  {
   "cell_type": "code",
   "execution_count": 8,
   "id": "96a9378a",
   "metadata": {},
   "outputs": [],
   "source": [
    "model = Model(tokenizer.get_vocab_size(), emb_size=128, hidden_size=256, num_layers=2, dropout=0.1)"
   ]
  },
  {
   "cell_type": "markdown",
   "id": "58ee6385",
   "metadata": {},
   "source": [
    "# Создаем Trainer и запускаем обучение"
   ]
  },
  {
   "cell_type": "code",
   "execution_count": 9,
   "id": "08145518",
   "metadata": {},
   "outputs": [],
   "source": [
    "trainer = Trainer(\n",
    "    model=model,\n",
    "    train_dataset=train_dataset,\n",
    "    eval_dataset=eval_dataset,\n",
    "    n_epochs=8,\n",
    "    train_batch_size=32,\n",
    "    eval_batch_size=32,\n",
    "    eval_steps=64,\n",
    "    collator=collator,\n",
    "    lr=1e-2,\n",
    "    ignore_index=tokenizer.pad_token_id\n",
    ")"
   ]
  },
  {
   "cell_type": "code",
   "execution_count": 10,
   "id": "57b36087",
   "metadata": {},
   "outputs": [
    {
     "name": "stderr",
     "output_type": "stream",
     "text": [
      "epoch=0.125, loss=4.9776201248168945:   2%|▏         | 64/4096 [00:47<47:46,  1.41it/s]       "
     ]
    },
    {
     "name": "stdout",
     "output_type": "stream",
     "text": [
      "epoch=0.125, eval_loss=4.977377727627754\n"
     ]
    },
    {
     "name": "stderr",
     "output_type": "stream",
     "text": [
      "epoch=0.25, loss=4.256743907928467:   3%|▎         | 128/4096 [01:46<50:30,  1.31it/s]         "
     ]
    },
    {
     "name": "stdout",
     "output_type": "stream",
     "text": [
      "epoch=0.25, eval_loss=4.1699263751506805\n"
     ]
    },
    {
     "name": "stderr",
     "output_type": "stream",
     "text": [
      "epoch=0.375, loss=3.9351179599761963:   5%|▍         | 192/4096 [02:39<46:29,  1.40it/s]        "
     ]
    },
    {
     "name": "stdout",
     "output_type": "stream",
     "text": [
      "epoch=0.375, eval_loss=3.923480160534382\n"
     ]
    },
    {
     "name": "stderr",
     "output_type": "stream",
     "text": [
      "epoch=0.5, loss=3.887662887573242:   6%|▋         | 256/4096 [03:35<45:11,  1.42it/s]           "
     ]
    },
    {
     "name": "stdout",
     "output_type": "stream",
     "text": [
      "epoch=0.5, eval_loss=3.7824318930506706\n"
     ]
    },
    {
     "name": "stderr",
     "output_type": "stream",
     "text": [
      "epoch=0.625, loss=3.8187994956970215:   8%|▊         | 320/4096 [04:27<40:22,  1.56it/s]        "
     ]
    },
    {
     "name": "stdout",
     "output_type": "stream",
     "text": [
      "epoch=0.625, eval_loss=3.6999263241887093\n"
     ]
    },
    {
     "name": "stderr",
     "output_type": "stream",
     "text": [
      "epoch=0.75, loss=3.784910202026367:   9%|▉         | 384/4096 [05:30<1:14:57,  1.21s/it]        "
     ]
    },
    {
     "name": "stdout",
     "output_type": "stream",
     "text": [
      "epoch=0.75, eval_loss=3.626659259200096\n"
     ]
    },
    {
     "name": "stderr",
     "output_type": "stream",
     "text": [
      "epoch=0.875, loss=3.693480968475342:  11%|█         | 448/4096 [06:48<1:35:23,  1.57s/it]       "
     ]
    },
    {
     "name": "stdout",
     "output_type": "stream",
     "text": [
      "epoch=0.875, eval_loss=3.583646282553673\n"
     ]
    },
    {
     "name": "stderr",
     "output_type": "stream",
     "text": [
      "epoch=1.0, loss=3.632094383239746:  12%|█▎        | 512/4096 [07:49<50:36,  1.18it/s]          "
     ]
    },
    {
     "name": "stdout",
     "output_type": "stream",
     "text": [
      "epoch=1.0, eval_loss=3.536531738936901\n"
     ]
    },
    {
     "name": "stderr",
     "output_type": "stream",
     "text": [
      "epoch=1.125, loss=3.569413661956787:  14%|█▍        | 576/4096 [08:40<38:35,  1.52it/s]         "
     ]
    },
    {
     "name": "stdout",
     "output_type": "stream",
     "text": [
      "epoch=1.125, eval_loss=3.509064808487892\n"
     ]
    },
    {
     "name": "stderr",
     "output_type": "stream",
     "text": [
      "epoch=1.25, loss=3.520073413848877:  16%|█▌        | 640/4096 [09:32<42:05,  1.37it/s]          "
     ]
    },
    {
     "name": "stdout",
     "output_type": "stream",
     "text": [
      "epoch=1.25, eval_loss=3.4845552146434784\n"
     ]
    },
    {
     "name": "stderr",
     "output_type": "stream",
     "text": [
      "epoch=1.375, loss=3.599330425262451:  17%|█▋        | 704/4096 [10:24<35:27,  1.59it/s]        "
     ]
    },
    {
     "name": "stdout",
     "output_type": "stream",
     "text": [
      "epoch=1.375, eval_loss=3.4604938849806786\n"
     ]
    },
    {
     "name": "stderr",
     "output_type": "stream",
     "text": [
      "epoch=1.5, loss=3.558695077896118:  19%|█▉        | 768/4096 [11:11<35:53,  1.55it/s]           "
     ]
    },
    {
     "name": "stdout",
     "output_type": "stream",
     "text": [
      "epoch=1.5, eval_loss=3.443286195397377\n"
     ]
    },
    {
     "name": "stderr",
     "output_type": "stream",
     "text": [
      "epoch=1.625, loss=3.438920021057129:  20%|██        | 832/4096 [11:59<35:28,  1.53it/s]         "
     ]
    },
    {
     "name": "stdout",
     "output_type": "stream",
     "text": [
      "epoch=1.625, eval_loss=3.4216545149683952\n"
     ]
    },
    {
     "name": "stderr",
     "output_type": "stream",
     "text": [
      "epoch=1.75, loss=3.3704993724823:  22%|██▏       | 896/4096 [12:46<32:28,  1.64it/s]            "
     ]
    },
    {
     "name": "stdout",
     "output_type": "stream",
     "text": [
      "epoch=1.75, eval_loss=3.4068614840507507\n"
     ]
    },
    {
     "name": "stderr",
     "output_type": "stream",
     "text": [
      "epoch=1.875, loss=3.376544713973999:  23%|██▎       | 960/4096 [13:39<41:03,  1.27it/s]        "
     ]
    },
    {
     "name": "stdout",
     "output_type": "stream",
     "text": [
      "epoch=1.875, eval_loss=3.3898501992225647\n"
     ]
    },
    {
     "name": "stderr",
     "output_type": "stream",
     "text": [
      "epoch=2.0, loss=3.385629415512085:  25%|██▌       | 1024/4096 [14:39<38:40,  1.32it/s]         "
     ]
    },
    {
     "name": "stdout",
     "output_type": "stream",
     "text": [
      "epoch=2.0, eval_loss=3.3696866035461426\n"
     ]
    },
    {
     "name": "stderr",
     "output_type": "stream",
     "text": [
      "epoch=2.125, loss=3.3084473609924316:  27%|██▋       | 1088/4096 [15:42<31:24,  1.60it/s]        "
     ]
    },
    {
     "name": "stdout",
     "output_type": "stream",
     "text": [
      "epoch=2.125, eval_loss=3.361585386097431\n"
     ]
    },
    {
     "name": "stderr",
     "output_type": "stream",
     "text": [
      "epoch=2.25, loss=3.3965723514556885:  28%|██▊       | 1152/4096 [16:38<30:58,  1.58it/s]         "
     ]
    },
    {
     "name": "stdout",
     "output_type": "stream",
     "text": [
      "epoch=2.25, eval_loss=3.359135702252388\n"
     ]
    },
    {
     "name": "stderr",
     "output_type": "stream",
     "text": [
      "epoch=2.375, loss=3.3992536067962646:  30%|██▉       | 1216/4096 [17:26<32:05,  1.50it/s]        "
     ]
    },
    {
     "name": "stdout",
     "output_type": "stream",
     "text": [
      "epoch=2.375, eval_loss=3.3450903072953224\n"
     ]
    },
    {
     "name": "stderr",
     "output_type": "stream",
     "text": [
      "epoch=2.5, loss=3.364609718322754:  31%|███▏      | 1280/4096 [18:19<31:59,  1.47it/s]           "
     ]
    },
    {
     "name": "stdout",
     "output_type": "stream",
     "text": [
      "epoch=2.5, eval_loss=3.338013380765915\n"
     ]
    },
    {
     "name": "stderr",
     "output_type": "stream",
     "text": [
      "epoch=2.625, loss=3.3854291439056396:  33%|███▎      | 1344/4096 [19:11<31:00,  1.48it/s]        "
     ]
    },
    {
     "name": "stdout",
     "output_type": "stream",
     "text": [
      "epoch=2.625, eval_loss=3.321888066828251\n"
     ]
    },
    {
     "name": "stderr",
     "output_type": "stream",
     "text": [
      "epoch=2.75, loss=3.396454095840454:  34%|███▍      | 1408/4096 [20:11<42:18,  1.06it/s]          "
     ]
    },
    {
     "name": "stdout",
     "output_type": "stream",
     "text": [
      "epoch=2.75, eval_loss=3.311305522918701\n"
     ]
    },
    {
     "name": "stderr",
     "output_type": "stream",
     "text": [
      "epoch=2.875, loss=3.3940799236297607:  36%|███▌      | 1472/4096 [21:07<32:56,  1.33it/s]        "
     ]
    },
    {
     "name": "stdout",
     "output_type": "stream",
     "text": [
      "epoch=2.875, eval_loss=3.306236907839775\n"
     ]
    },
    {
     "name": "stderr",
     "output_type": "stream",
     "text": [
      "epoch=3.0, loss=3.4212868213653564:  38%|███▊      | 1536/4096 [22:02<35:31,  1.20it/s]          "
     ]
    },
    {
     "name": "stdout",
     "output_type": "stream",
     "text": [
      "epoch=3.0, eval_loss=3.3020500615239143\n"
     ]
    },
    {
     "name": "stderr",
     "output_type": "stream",
     "text": [
      "epoch=3.125, loss=3.2272229194641113:  39%|███▉      | 1600/4096 [22:57<28:29,  1.46it/s]       "
     ]
    },
    {
     "name": "stdout",
     "output_type": "stream",
     "text": [
      "epoch=3.125, eval_loss=3.295647844672203\n"
     ]
    },
    {
     "name": "stderr",
     "output_type": "stream",
     "text": [
      "epoch=3.25, loss=3.225533962249756:  41%|████      | 1664/4096 [23:55<37:01,  1.09it/s]          "
     ]
    },
    {
     "name": "stdout",
     "output_type": "stream",
     "text": [
      "epoch=3.25, eval_loss=3.288282871246338\n"
     ]
    },
    {
     "name": "stderr",
     "output_type": "stream",
     "text": [
      "epoch=3.375, loss=3.306816816329956:  42%|████▏     | 1728/4096 [24:45<24:46,  1.59it/s]        "
     ]
    },
    {
     "name": "stdout",
     "output_type": "stream",
     "text": [
      "epoch=3.375, eval_loss=3.286645270884037\n"
     ]
    },
    {
     "name": "stderr",
     "output_type": "stream",
     "text": [
      "epoch=3.5, loss=3.193359613418579:  44%|████▍     | 1792/4096 [25:31<24:05,  1.59it/s]           "
     ]
    },
    {
     "name": "stdout",
     "output_type": "stream",
     "text": [
      "epoch=3.5, eval_loss=3.276056781411171\n"
     ]
    },
    {
     "name": "stderr",
     "output_type": "stream",
     "text": [
      "epoch=3.625, loss=3.312044143676758:  45%|████▌     | 1856/4096 [26:26<24:53,  1.50it/s]         "
     ]
    },
    {
     "name": "stdout",
     "output_type": "stream",
     "text": [
      "epoch=3.625, eval_loss=3.2663406506180763\n"
     ]
    },
    {
     "name": "stderr",
     "output_type": "stream",
     "text": [
      "epoch=3.75, loss=3.3761091232299805:  47%|████▋     | 1920/4096 [27:23<26:36,  1.36it/s]        "
     ]
    },
    {
     "name": "stdout",
     "output_type": "stream",
     "text": [
      "epoch=3.75, eval_loss=3.261234164237976\n"
     ]
    },
    {
     "name": "stderr",
     "output_type": "stream",
     "text": [
      "epoch=3.875, loss=3.3104403018951416:  48%|████▊     | 1984/4096 [28:13<22:26,  1.57it/s]        "
     ]
    },
    {
     "name": "stdout",
     "output_type": "stream",
     "text": [
      "epoch=3.875, eval_loss=3.2510950341820717\n"
     ]
    },
    {
     "name": "stderr",
     "output_type": "stream",
     "text": [
      "epoch=4.0, loss=3.2914340496063232:  50%|█████     | 2048/4096 [29:03<22:18,  1.53it/s]         "
     ]
    },
    {
     "name": "stdout",
     "output_type": "stream",
     "text": [
      "epoch=4.0, eval_loss=3.2494240179657936\n"
     ]
    },
    {
     "name": "stderr",
     "output_type": "stream",
     "text": [
      "epoch=4.125, loss=3.1324846744537354:  52%|█████▏    | 2112/4096 [29:58<27:24,  1.21it/s]        "
     ]
    },
    {
     "name": "stdout",
     "output_type": "stream",
     "text": [
      "epoch=4.125, eval_loss=3.252983532845974\n"
     ]
    },
    {
     "name": "stderr",
     "output_type": "stream",
     "text": [
      "epoch=4.25, loss=3.2344508171081543:  53%|█████▎    | 2176/4096 [30:52<23:20,  1.37it/s]        "
     ]
    },
    {
     "name": "stdout",
     "output_type": "stream",
     "text": [
      "epoch=4.25, eval_loss=3.24898611754179\n"
     ]
    },
    {
     "name": "stderr",
     "output_type": "stream",
     "text": [
      "epoch=4.375, loss=3.3373782634735107:  55%|█████▍    | 2240/4096 [31:44<25:30,  1.21it/s]       "
     ]
    },
    {
     "name": "stdout",
     "output_type": "stream",
     "text": [
      "epoch=4.375, eval_loss=3.248786397278309\n"
     ]
    },
    {
     "name": "stderr",
     "output_type": "stream",
     "text": [
      "epoch=4.5, loss=3.183722734451294:  56%|█████▋    | 2304/4096 [32:37<20:39,  1.45it/s]           "
     ]
    },
    {
     "name": "stdout",
     "output_type": "stream",
     "text": [
      "epoch=4.5, eval_loss=3.2363929376006126\n"
     ]
    },
    {
     "name": "stderr",
     "output_type": "stream",
     "text": [
      "epoch=4.625, loss=3.2675719261169434:  58%|█████▊    | 2368/4096 [33:32<19:37,  1.47it/s]        "
     ]
    },
    {
     "name": "stdout",
     "output_type": "stream",
     "text": [
      "epoch=4.625, eval_loss=3.2307350784540176\n"
     ]
    },
    {
     "name": "stderr",
     "output_type": "stream",
     "text": [
      "epoch=4.75, loss=3.2971816062927246:  59%|█████▉    | 2432/4096 [34:25<17:48,  1.56it/s]        "
     ]
    },
    {
     "name": "stdout",
     "output_type": "stream",
     "text": [
      "epoch=4.75, eval_loss=3.2291810140013695\n"
     ]
    },
    {
     "name": "stderr",
     "output_type": "stream",
     "text": [
      "epoch=4.875, loss=3.2768657207489014:  61%|██████    | 2496/4096 [35:21<19:59,  1.33it/s]       "
     ]
    },
    {
     "name": "stdout",
     "output_type": "stream",
     "text": [
      "epoch=4.875, eval_loss=3.2245102673768997\n"
     ]
    },
    {
     "name": "stderr",
     "output_type": "stream",
     "text": [
      "epoch=5.0, loss=3.3189969062805176:  62%|██████▎   | 2560/4096 [36:17<15:51,  1.62it/s]         "
     ]
    },
    {
     "name": "stdout",
     "output_type": "stream",
     "text": [
      "epoch=5.0, eval_loss=3.217140421271324\n"
     ]
    },
    {
     "name": "stderr",
     "output_type": "stream",
     "text": [
      "epoch=5.125, loss=3.211594581604004:  64%|██████▍   | 2624/4096 [37:00<18:32,  1.32it/s]       "
     ]
    },
    {
     "name": "stdout",
     "output_type": "stream",
     "text": [
      "epoch=5.125, eval_loss=3.2236544862389565\n"
     ]
    },
    {
     "name": "stderr",
     "output_type": "stream",
     "text": [
      "epoch=5.25, loss=3.158088207244873:  66%|██████▌   | 2688/4096 [37:55<16:26,  1.43it/s]          "
     ]
    },
    {
     "name": "stdout",
     "output_type": "stream",
     "text": [
      "epoch=5.25, eval_loss=3.2233670577406883\n"
     ]
    },
    {
     "name": "stderr",
     "output_type": "stream",
     "text": [
      "epoch=5.375, loss=3.1272945404052734:  67%|██████▋   | 2752/4096 [38:46<12:45,  1.76it/s]      "
     ]
    },
    {
     "name": "stdout",
     "output_type": "stream",
     "text": [
      "epoch=5.375, eval_loss=3.2153337746858597\n"
     ]
    },
    {
     "name": "stderr",
     "output_type": "stream",
     "text": [
      "epoch=5.5, loss=3.126861095428467:  69%|██████▉   | 2816/4096 [39:35<13:48,  1.54it/s]         "
     ]
    },
    {
     "name": "stdout",
     "output_type": "stream",
     "text": [
      "epoch=5.5, eval_loss=3.2138847410678864\n"
     ]
    },
    {
     "name": "stderr",
     "output_type": "stream",
     "text": [
      "epoch=5.625, loss=3.2711846828460693:  70%|███████   | 2880/4096 [40:22<12:13,  1.66it/s]      "
     ]
    },
    {
     "name": "stdout",
     "output_type": "stream",
     "text": [
      "epoch=5.625, eval_loss=3.2067835703492165\n"
     ]
    },
    {
     "name": "stderr",
     "output_type": "stream",
     "text": [
      "epoch=5.75, loss=3.2658228874206543:  72%|███████▏  | 2944/4096 [41:11<12:37,  1.52it/s]       "
     ]
    },
    {
     "name": "stdout",
     "output_type": "stream",
     "text": [
      "epoch=5.75, eval_loss=3.203069619834423\n"
     ]
    },
    {
     "name": "stderr",
     "output_type": "stream",
     "text": [
      "epoch=5.875, loss=3.3559627532958984:  73%|███████▎  | 3008/4096 [42:00<11:00,  1.65it/s]      "
     ]
    },
    {
     "name": "stdout",
     "output_type": "stream",
     "text": [
      "epoch=5.875, eval_loss=3.197106048464775\n"
     ]
    },
    {
     "name": "stderr",
     "output_type": "stream",
     "text": [
      "epoch=6.0, loss=3.144627332687378:  75%|███████▌  | 3072/4096 [42:54<12:09,  1.40it/s]         "
     ]
    },
    {
     "name": "stdout",
     "output_type": "stream",
     "text": [
      "epoch=6.0, eval_loss=3.189843066036701\n"
     ]
    },
    {
     "name": "stderr",
     "output_type": "stream",
     "text": [
      "epoch=6.125, loss=3.136308193206787:  77%|███████▋  | 3136/4096 [43:46<12:42,  1.26it/s]       "
     ]
    },
    {
     "name": "stdout",
     "output_type": "stream",
     "text": [
      "epoch=6.125, eval_loss=3.199526198208332\n"
     ]
    },
    {
     "name": "stderr",
     "output_type": "stream",
     "text": [
      "epoch=6.25, loss=3.036066770553589:  78%|███████▊  | 3200/4096 [44:47<11:35,  1.29it/s]        "
     ]
    },
    {
     "name": "stdout",
     "output_type": "stream",
     "text": [
      "epoch=6.25, eval_loss=3.2004332542419434\n"
     ]
    },
    {
     "name": "stderr",
     "output_type": "stream",
     "text": [
      "epoch=6.375, loss=3.1803767681121826:  80%|███████▉  | 3264/4096 [45:45<10:02,  1.38it/s]      "
     ]
    },
    {
     "name": "stdout",
     "output_type": "stream",
     "text": [
      "epoch=6.375, eval_loss=3.1967111378908157\n"
     ]
    },
    {
     "name": "stderr",
     "output_type": "stream",
     "text": [
      "epoch=6.5, loss=3.0073294639587402:  81%|████████▏ | 3328/4096 [46:45<10:58,  1.17it/s]        "
     ]
    },
    {
     "name": "stdout",
     "output_type": "stream",
     "text": [
      "epoch=6.5, eval_loss=3.1891884207725525\n"
     ]
    },
    {
     "name": "stderr",
     "output_type": "stream",
     "text": [
      "epoch=6.625, loss=3.2760088443756104:  83%|████████▎ | 3392/4096 [47:44<09:04,  1.29it/s]      "
     ]
    },
    {
     "name": "stdout",
     "output_type": "stream",
     "text": [
      "epoch=6.625, eval_loss=3.1851525977253914\n"
     ]
    },
    {
     "name": "stderr",
     "output_type": "stream",
     "text": [
      "epoch=6.75, loss=3.1792430877685547:  84%|████████▍ | 3456/4096 [48:42<09:00,  1.18it/s]       "
     ]
    },
    {
     "name": "stdout",
     "output_type": "stream",
     "text": [
      "epoch=6.75, eval_loss=3.1839775666594505\n"
     ]
    },
    {
     "name": "stderr",
     "output_type": "stream",
     "text": [
      "epoch=6.875, loss=3.185929775238037:  86%|████████▌ | 3520/4096 [49:48<08:29,  1.13it/s]       "
     ]
    },
    {
     "name": "stdout",
     "output_type": "stream",
     "text": [
      "epoch=6.875, eval_loss=3.17946819961071\n"
     ]
    },
    {
     "name": "stderr",
     "output_type": "stream",
     "text": [
      "epoch=7.0, loss=3.133119583129883:  88%|████████▊ | 3584/4096 [50:47<05:53,  1.45it/s]         "
     ]
    },
    {
     "name": "stdout",
     "output_type": "stream",
     "text": [
      "epoch=7.0, eval_loss=3.174528054893017\n"
     ]
    },
    {
     "name": "stderr",
     "output_type": "stream",
     "text": [
      "epoch=7.125, loss=3.035829782485962:  89%|████████▉ | 3648/4096 [51:40<04:34,  1.63it/s]       "
     ]
    },
    {
     "name": "stdout",
     "output_type": "stream",
     "text": [
      "epoch=7.125, eval_loss=3.1832799464464188\n"
     ]
    },
    {
     "name": "stderr",
     "output_type": "stream",
     "text": [
      "epoch=7.25, loss=3.055338144302368:  91%|█████████ | 3712/4096 [52:27<04:19,  1.48it/s]        "
     ]
    },
    {
     "name": "stdout",
     "output_type": "stream",
     "text": [
      "epoch=7.25, eval_loss=3.179781697690487\n"
     ]
    },
    {
     "name": "stderr",
     "output_type": "stream",
     "text": [
      "epoch=7.375, loss=3.2843918800354004:  92%|█████████▏| 3776/4096 [53:16<03:51,  1.38it/s]      "
     ]
    },
    {
     "name": "stdout",
     "output_type": "stream",
     "text": [
      "epoch=7.375, eval_loss=3.1781558245420456\n"
     ]
    },
    {
     "name": "stderr",
     "output_type": "stream",
     "text": [
      "epoch=7.5, loss=3.158771514892578:  94%|█████████▍| 3840/4096 [54:15<03:31,  1.21it/s]         "
     ]
    },
    {
     "name": "stdout",
     "output_type": "stream",
     "text": [
      "epoch=7.5, eval_loss=3.1790052726864815\n"
     ]
    },
    {
     "name": "stderr",
     "output_type": "stream",
     "text": [
      "epoch=7.625, loss=3.1481316089630127:  95%|█████████▌| 3904/4096 [55:09<02:15,  1.42it/s]      "
     ]
    },
    {
     "name": "stdout",
     "output_type": "stream",
     "text": [
      "epoch=7.625, eval_loss=3.1759281381964684\n"
     ]
    },
    {
     "name": "stderr",
     "output_type": "stream",
     "text": [
      "epoch=7.75, loss=3.112189292907715:  97%|█████████▋| 3968/4096 [56:06<01:43,  1.23it/s]        "
     ]
    },
    {
     "name": "stdout",
     "output_type": "stream",
     "text": [
      "epoch=7.75, eval_loss=3.1721436232328415\n"
     ]
    },
    {
     "name": "stderr",
     "output_type": "stream",
     "text": [
      "epoch=7.875, loss=2.988830089569092:  98%|█████████▊| 4032/4096 [57:04<00:44,  1.44it/s]       "
     ]
    },
    {
     "name": "stdout",
     "output_type": "stream",
     "text": [
      "epoch=7.875, eval_loss=3.1678682938218117\n"
     ]
    },
    {
     "name": "stderr",
     "output_type": "stream",
     "text": [
      "epoch=8.0, loss=3.0986835956573486: 100%|██████████| 4096/4096 [58:11<00:00,  1.17it/s]        "
     ]
    },
    {
     "name": "stdout",
     "output_type": "stream",
     "text": [
      "epoch=8.0, eval_loss=3.162910506129265\n"
     ]
    },
    {
     "name": "stderr",
     "output_type": "stream",
     "text": [
      "\n"
     ]
    }
   ],
   "source": [
    "trainer.train()"
   ]
  },
  {
   "cell_type": "markdown",
   "id": "0b4b73df",
   "metadata": {},
   "source": [
    "# Оцениваем качество и проверяем жадную и случайную генерацию"
   ]
  },
  {
   "cell_type": "code",
   "execution_count": 11,
   "id": "88155ce6",
   "metadata": {},
   "outputs": [
    {
     "data": {
      "text/plain": [
       "3.162910506129265"
      ]
     },
     "execution_count": 11,
     "metadata": {},
     "output_type": "execute_result"
    }
   ],
   "source": [
    "trainer.evaluate()"
   ]
  },
  {
   "cell_type": "code",
   "execution_count": 12,
   "id": "e9299f79",
   "metadata": {},
   "outputs": [
    {
     "data": {
      "text/plain": [
       "'Козерогам стоит быть внимательнее к тому, что вы не будете превосходно и устали, то не сбавить свои силы и способности. В конце дня вы способны снизить свои силы и энергичные и чужие ошибки. В конце дня вы способны снизить свои силы и энергичные и чужие ошибки. В конце дня вы способны снизить свои силы и энергичные и чужие ошибки. В конце дня вы способны снизить свои силы и энергичные и чужие ошибки. В конце дня вы способны снизить свои силы и энергичные и чужие ошибки. В конце дня вы способны снизить свои силы и энергичные и чужие ошибки. В конце дня вы способны снизить свои силы и энергичные и чужие ошибки. В конце дня вы способны снизить свои силы и энергичные и чужие ошибки. В конце дня вы способны снизить свои силы и энергичные и чужие ошибки. В конце дня вы способны снизить свои силы и энергичные и чужие ошибки. В конце дня вы способны снизить свои силы и энергичные и чужие ошибки. В конце дня вы способны снизить свои силы и энергичные и чужие ошибки. В конце дня вы способны снизить свои силы и энергичные и чужие ошибки. В конце дня вы способны снизить свои силы и энергичные и чужие ошибки. В конце дня вы способны снизить свои силы и энергичные и чужие ошибки. В конце дня вы способны снизить свои силы и энергичные и чужие ошибки. В конце дня вы способны снизить свои силы и энергичные и чужие ошибки. В конце дня вы способны снизить свои силы и энергичные и чужие ошибки. В конце дня вы способны снизить свои силы и энергичные и чужие ошибки. В конце дня вы способны снизить свои силы и энергичные и чужие ошибки. В конце дня вы способны снизить свои силы и энергичные и чужие ошибки. В конце дня вы способны снизить свои силы и энергичные и чужие ошибки. В конце дня вы способны снизить свои силы и энергичные и чужие ошибки. В конце дня вы способны снизить свои силы и энергичные и чужие ошибки. В конце дня вы способны снизить свои силы и энергичные и чужие ошибки. В конце дня вы способны снизить свои силы и энергичные и чужие ошибки. В конце дня вы способны снизить свои силы и энергичные и чужие ошибки. В конце дня вы способны снизить свои силы и энергичные и чужие ошибки. В конце дня вы способны снизить свои силы и энергичные и чужие ошибки. В конце дня вы способны снизить свои силы и энергичные и чужие ошибки. В конце дня вы способны снизить свои силы и энергичные и чужие ошибки. В конце дня вы способны снизить свои силы и энергичные и чужие ошибки. В конце дня вы способны снизить свои силы и энергичные и чужие ошибки. В конце дня вы способны снизить свои силы и энергичные и чужие ошибки. В конце дня вы способны снизить свои силы и энергичные и чужие ошибки. В конце дня вы способны снизить свои силы и энергичные и чужие ошибки. В конце дня вы способны снизить свои силы и энергичные и чужие ошибки. В конце дня вы способны снизить свои силы и энергичные и чужие ошибки. В конце дня вы способны снизить свои силы и энергичные и чужие ошибки. В конце дня вы способны снизить свои силы и энергичные и чужие ошибки. В конце дня вы способны снизить свои силы и энергичные и чужие ошибки. В конце дня вы способны снизить свои силы и энергичные и чужие ошибки. В конце дня вы способны снизить свои силы и энергичные и чужие ошибки. В конце дня вы способны снизить свои силы и энергичные и чужие ошибки. В конце дня вы способны снизить свои силы и энергичные и чужие ошибки. В конце дня вы способны снизить свои силы и энергичные и чужие ошибки. В конце дня вы способны снизить свои силы и энергичные и чужие ошибки. В конце дня вы способны снизить свои силы и энергичные и чужие ошибки. В конце дня вы способны снизить свои силы и энергичные и чужие ошибки. В конце дня вы способны снизить свои силы и энергичные и чужие ошибки. В конце дня вы способны снизить свои силы и энергичные и чужие ошибки. В конце дня вы способны снизить свои силы и энергичные и чужие ошибки'"
      ]
     },
     "execution_count": 12,
     "metadata": {},
     "output_type": "execute_result"
    }
   ],
   "source": [
    "generate(model, tokenizer, temperature=0)"
   ]
  },
  {
   "cell_type": "code",
   "execution_count": 13,
   "id": "441e4368",
   "metadata": {},
   "outputs": [
    {
     "data": {
      "text/plain": [
       "'Эмоциональность, уединение, двусмысленное место работы. Во второй половине дня вероятнее утро для активного отдыха, устранения недавних событий, возможны проблемы в связи с финансовыми деловыми партнерами. Не бездельнично расслабляться в кругу близких людей или родных, друзей, родителей.'"
      ]
     },
     "execution_count": 13,
     "metadata": {},
     "output_type": "execute_result"
    }
   ],
   "source": [
    "generate(model, tokenizer, temperature=0.5, top_k=20)"
   ]
  }
 ],
 "metadata": {
  "kernelspec": {
   "display_name": "nlp-vk",
   "language": "python",
   "name": "python3"
  },
  "language_info": {
   "codemirror_mode": {
    "name": "ipython",
    "version": 3
   },
   "file_extension": ".py",
   "mimetype": "text/x-python",
   "name": "python",
   "nbconvert_exporter": "python",
   "pygments_lexer": "ipython3",
   "version": "3.12.7"
  }
 },
 "nbformat": 4,
 "nbformat_minor": 5
}
